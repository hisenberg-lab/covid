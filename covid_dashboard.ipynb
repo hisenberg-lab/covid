{
 "cells": [
  {
   "cell_type": "markdown",
   "id": "5b054b96",
   "metadata": {},
   "source": [
    "# COVID-19 INDIA DASHBOARD"
   ]
  },
  {
   "cell_type": "code",
   "execution_count": 4,
   "id": "e3c15c09",
   "metadata": {},
   "outputs": [],
   "source": [
    "import numpy as np\n",
    "import pandas as pd\n",
    "import ipywidgets as widgets\n",
    "import geopandas as gpd\n",
    "import altair as alt\n",
    "alt.renderers.enable('default')\n",
    "alt.themes.enable('dark')\n",
    "# alt.renderers.enable(renderer_name, embed_options={'renderer': 'svg'})\n",
    "import json"
   ]
  },
  {
   "cell_type": "code",
   "execution_count": null,
   "id": "bb8ba375",
   "metadata": {},
   "outputs": [],
   "source": [
    "country_df = pd.read_csv('https://api.covid19india.org/csv/latest/case_time_series.csv')\n",
    "latest_df = pd.read_csv('https://api.covid19india.org/csv/latest/state_wise.csv')\n",
    "vaccine_df = pd.read_csv('http://api.covid19india.org/csv/latest/cowin_vaccine_data_statewise.csv')\n",
    "\n",
    "country_df.drop(['Date'], axis = 1,inplace=True)\n",
    "\n",
    "country_df.rename(columns={'Date_YMD':'Date'},inplace=True)\n",
    "\n",
    "country_df[\"Date\"]= pd.to_datetime(country_df[\"Date\"])\n",
    "# country_df.set_index('Date')"
   ]
  },
  {
   "cell_type": "markdown",
   "id": "badb5ac9",
   "metadata": {},
   "source": [
    "## Confirmed cases spread trend"
   ]
  },
  {
   "cell_type": "code",
   "execution_count": null,
   "id": "1562f031",
   "metadata": {},
   "outputs": [],
   "source": [
    "hover = alt.selection_single(on='mouseover',nearest=True, fields=['Date'])\n",
    "line = alt.Chart().mark_line().encode(x='Date:T',y='Daily Confirmed',color=alt.value('teal')).properties(width=780, height=400).interactive()\n",
    "\n",
    "point = line.mark_point().encode(opacity=alt.value(0.0)).properties(selection=hover)\n",
    "\n",
    "text = alt.Chart().mark_text(align='right', dy=-2, fontSize=20).encode(x='Date:T',y='Daily Confirmed',text='Daily Confirmed',detail='Daily Confirmed',color=alt.value('white'),opacity=alt.condition(hover,alt.value(0.8), alt.value(0.0)))\n",
    "\n",
    "alt.layer(line,point,text,data=country_df).configure(background='black').interactive().configure_axis(grid=False).configure_view(strokeWidth=0)"
   ]
  },
  {
   "cell_type": "markdown",
   "id": "63074aa8",
   "metadata": {},
   "source": [
    "## Recovery and Fatality spread trends"
   ]
  },
  {
   "cell_type": "markdown",
   "id": "698b57a9",
   "metadata": {},
   "source": [
    "##### Select an option"
   ]
  },
  {
   "cell_type": "code",
   "execution_count": null,
   "id": "af626413",
   "metadata": {},
   "outputs": [],
   "source": [
    "def cases(y_value,colour):\n",
    "    hover = alt.selection_single(on='mouseover',nearest=True, fields=['Date'])\n",
    "    line = alt.Chart().mark_line().encode(x='Date:T',y=y_value,color=alt.value(colour)).properties(width=690, height=370).interactive()\n",
    "\n",
    "    point = line.mark_point().encode(opacity=alt.value(0.0)).properties(selection=hover)\n",
    "\n",
    "    text = alt.Chart().mark_text(align='right', dy=-2, fontSize=20).encode(x='Date:T',y=y_value,text=y_value,detail=y_value,color=alt.value('white'),opacity=alt.condition(hover,alt.value(0.8), alt.value(0.0)))\n",
    "\n",
    "    chart = alt.layer(line,point,text,data=country_df).configure(background='black').interactive().configure_axis(grid=False).configure_view(strokeWidth=0)\n",
    "    return chart\n",
    "\n",
    "t = widgets.ToggleButtons(\n",
    "    options=['Recovered', 'Deceased'],\n",
    "    description='Cases',\n",
    "    disabled=False,\n",
    "    value=None,\n",
    "    button_style='info', # 'success', 'info', 'warning', 'danger' or ''\n",
    "    tooltips=['Recovered Cases', 'Deceased Cases'],\n",
    "#     icons=['check'] * 3\n",
    ")\n",
    "\n",
    "\n",
    "out = widgets.Output(width='800',height='100%')\n",
    "\n",
    "def toggle_change(change):\n",
    "    if change.new == 'Recovered':\n",
    "        out.clear_output()\n",
    "        with out:\n",
    "            display(cases(y_value='Daily Recovered', colour = 'green'))\n",
    "        return out\n",
    "    elif change.new == 'Deceased':\n",
    "        out.clear_output()\n",
    "        with out:\n",
    "            display(cases(y_value='Daily Deceased', colour = 'red'))\n",
    "        return out\n",
    "\n",
    "t.observe(toggle_change, names='value')\n",
    "\n",
    "out2 = widgets.Output(width='100%',height='100%')\n",
    "with out2:\n",
    "    display(t)\n",
    "box = widgets.VBox(children=[out2, out])\n",
    "display(box)"
   ]
  },
  {
   "cell_type": "code",
   "execution_count": null,
   "id": "6c2d1b69",
   "metadata": {},
   "outputs": [],
   "source": []
  },
  {
   "cell_type": "markdown",
   "id": "5f482ae9",
   "metadata": {},
   "source": [
    "## Normalized stacked area plot"
   ]
  },
  {
   "cell_type": "code",
   "execution_count": null,
   "id": "60e43f51",
   "metadata": {},
   "outputs": [],
   "source": [
    "stack = country_df[['Date','Daily Confirmed','Daily Recovered', 'Daily Deceased']]\n",
    "\n",
    "stack.set_index('Date',inplace=True)\n",
    "\n",
    "stack.columns = ['Confirmed','Recovered','Deceased']\n",
    "\n",
    "stack = stack.reset_index()\n",
    "stack = pd.melt(stack, id_vars='Date', var_name='Cases', value_name= 'Count' )"
   ]
  },
  {
   "cell_type": "code",
   "execution_count": null,
   "id": "636f8ee0",
   "metadata": {},
   "outputs": [],
   "source": [
    "hover = alt.selection_single(on='mouseover')\n",
    "scale = alt.Scale(domain=['Confirmed', 'Recovered', 'Deceased'], range=['#17c8cf', '#20c730', 'red'])\n",
    "alt.Chart(stack).mark_area().encode(\n",
    "alt.X('Date:T'),\n",
    "alt.Y('sum(Count):Q', stack='normalize'),\n",
    "color=alt.Color('Cases:N',scale = scale),opacity=alt.condition(hover, alt.value(0.8), alt.value(0.4))\n",
    ").properties(\n",
    "    width=800,\n",
    "    height=400,\n",
    "    selection=hover\n",
    ").configure(background='black').configure_legend(\n",
    "  orient='bottom'\n",
    ").interactive()"
   ]
  },
  {
   "cell_type": "code",
   "execution_count": null,
   "id": "90b3ddae",
   "metadata": {},
   "outputs": [],
   "source": []
  },
  {
   "cell_type": "markdown",
   "id": "978c7dbe",
   "metadata": {},
   "source": [
    "## Choropleth map of confirmed cases"
   ]
  },
  {
   "cell_type": "markdown",
   "id": "b96d6b94",
   "metadata": {},
   "source": [
    "##### Hover you cursor over the states "
   ]
  },
  {
   "cell_type": "code",
   "execution_count": null,
   "id": "c14956af",
   "metadata": {},
   "outputs": [],
   "source": [
    "latest_df = latest_df[['State','Confirmed','Recovered','Deaths','Active']]\n",
    "\n",
    "latest_df.set_index('State',inplace=True)\n",
    "latest_df.drop('Total', inplace=True)\n",
    "\n",
    "state_list = latest_df.index.tolist()\n",
    "idx = state_list.index('Jammu and Kashmir')\n",
    "state_list[idx] = 'Jammu & Kashmir'\n",
    "latest_df.index = state_list\n",
    "\n",
    "latest_df.reset_index(inplace=True)\n",
    "\n",
    "latest_df.rename({'index':'State'},axis=1,inplace=True)\n",
    "\n",
    "latest_df['Recovery_rate'] = latest_df['Recovered']/latest_df['Confirmed']\n",
    "latest_df['Death_rate'] = latest_df['Deaths']/latest_df['Confirmed']\n",
    "\n",
    "gdf = gpd.read_file('Admin2.shp')\n",
    "\n",
    "gdf = gdf.merge(latest_df,left_on='ST_NM', right_on='State', how='left')\n",
    "\n",
    "choro_json = json.loads(gdf.to_json())\n",
    "choro_data = alt.Data(values = choro_json['features'])\n",
    "\n",
    "def gen_map(geodata, color_column, title, tooltip, color_scheme ,scheme_title):\n",
    "    base = alt.Chart(geodata, title = title).mark_geoshape(stroke='black',strokeWidth=1).encode().properties(width=700, height=800)\n",
    "    choro = alt.Chart(geodata).mark_geoshape(stroke='white').encode(alt.Color(color_column, type='quantitative',scale=alt.Scale(scheme=color_scheme),title=scheme_title), tooltip=tooltip)\n",
    "    return base+choro"
   ]
  },
  {
   "cell_type": "code",
   "execution_count": null,
   "id": "dfe4c66b",
   "metadata": {},
   "outputs": [],
   "source": [
    "india_map = gen_map(geodata=choro_data, color_column='properties.Confirmed', title = \"Covid-19 cases\", tooltip=['properties.ST_NM:N','properties.Confirmed:Q'], color_scheme='reds',scheme_title='Confirmed cases').configure(background='black')\n",
    "display(india_map)"
   ]
  },
  {
   "cell_type": "markdown",
   "id": "fa51d2c4",
   "metadata": {},
   "source": [
    "## Choropleth map of Active cases, Recovery rate & Death rate"
   ]
  },
  {
   "cell_type": "markdown",
   "id": "f1153a5b",
   "metadata": {},
   "source": [
    "##### Select an option and hover over the map"
   ]
  },
  {
   "cell_type": "code",
   "execution_count": null,
   "id": "f2d7b762",
   "metadata": {},
   "outputs": [],
   "source": [
    "t2 = widgets.ToggleButtons(\n",
    "    options=['Active','Recovery Rate', 'Death Rate'],\n",
    "    description='India\\'s Covid-19 ',\n",
    "    disabled=False,\n",
    "    value = None,\n",
    "    button_style='danger', # 'success', 'info', 'warning', 'danger' or ''\n",
    "    tooltips=['Choropleth map of active cases','Choropleth map of recovery rate', 'Choropleth map of death rate'],\n",
    "#     icons=['check'] * 3\n",
    ")\n",
    "\n",
    "out3 = widgets.Output(width='800',height='100%')\n",
    "\n",
    "def toggle_change2(change):\n",
    "    if change.new == 'Active':\n",
    "        out3.clear_output()\n",
    "        with out3:\n",
    "            display(gen_map(geodata=choro_data, color_column='properties.Active', title = \"Covid-19 cases\", tooltip=['properties.ST_NM:N','properties.Active:Q'], color_scheme='lighttealblue',scheme_title='Active cases').configure(background='black'))\n",
    "        return out3\n",
    "    elif change.new == 'Recovery Rate':\n",
    "        out3.clear_output()\n",
    "        with out3:\n",
    "            display(gen_map(geodata=choro_data, color_column='properties.Recovery_rate', title = \"Covid-19 cases\", tooltip=['properties.ST_NM:N', 'properties.Recovered:Q', 'properties.Recovery_rate:Q'], color_scheme='yellowgreen',scheme_title='Recovery rate').configure(background='black'))\n",
    "        return out3\n",
    "    elif change.new == 'Death Rate':\n",
    "        out3.clear_output()\n",
    "        with out3:\n",
    "            display(gen_map(geodata=choro_data, color_column='properties.Death_rate', title = \"Covid-19 cases\", tooltip=['properties.ST_NM:N', 'properties.Deaths:Q', 'properties.Death_rate:Q'], color_scheme='purplered',scheme_title='Death rate').configure(background='black'))\n",
    "        return out3\n",
    "\n",
    "t2.observe(toggle_change2, names='value')\n",
    "\n",
    "out4 = widgets.Output(width='100%',height='100%')\n",
    "with out4:\n",
    "    display(t2)\n",
    "box2 = widgets.VBox(children=[out4,out3])\n",
    "display(box2)"
   ]
  },
  {
   "cell_type": "code",
   "execution_count": null,
   "id": "eb4313cf",
   "metadata": {},
   "outputs": [],
   "source": [
    "country_vaccine_df = vaccine_df[vaccine_df['State']=='India']\n",
    "country_vaccine_df.iloc[:,0] = pd.to_datetime(country_vaccine_df.iloc[:,0], format=\"%d/%m/%Y\")\n",
    "# country_vaccine_df['Updated On'] = pd.to_datetime(country_vaccine_df['Updated On'])\n",
    "\n",
    "# country_vaccine_df.head()\n",
    "\n",
    "india_vaccine_df = country_vaccine_df[country_vaccine_df['State'] == 'India']\n",
    "\n",
    "dose_df = india_vaccine_df[['Updated On', 'First Dose Administered', 'Second Dose Administered']]\n",
    "\n",
    "dose_df = pd.melt(dose_df, id_vars = 'Updated On', var_name = 'Dose')"
   ]
  },
  {
   "cell_type": "markdown",
   "id": "0fbd0e3d",
   "metadata": {},
   "source": [
    "## Vaccination spread trends"
   ]
  },
  {
   "cell_type": "code",
   "execution_count": null,
   "id": "b715c5a3",
   "metadata": {},
   "outputs": [],
   "source": [
    "hover = alt.selection_single(on='mouseover')\n",
    "\n",
    "alt.Chart(dose_df).mark_area().encode(\n",
    "alt.X('Updated On:T'),\n",
    "alt.Y('sum(value):Q', axis=alt.Axis(title='vaccine dose')),\n",
    "color=alt.Color('Dose:N',scale = alt.Scale(scheme='dark2')),opacity=alt.condition(hover, alt.value(1.0), alt.value(0.5))\n",
    ").properties(\n",
    "    width=600,\n",
    "    height=400,\n",
    "    selection=hover\n",
    ").configure(background='black').interactive()"
   ]
  },
  {
   "cell_type": "code",
   "execution_count": null,
   "id": "00bb4c76",
   "metadata": {},
   "outputs": [],
   "source": [
    "gender_vaccine_df = india_vaccine_df[['Male(Individuals Vaccinated)','Female(Individuals Vaccinated)', 'Transgender(Individuals Vaccinated)','Total Covaxin Administered','Total CoviShield Administered']]\n",
    "\n",
    "gender_vaccine_df.columns = ['Male','Female','Transgender','Covaxin','CoviShield']\n",
    "\n",
    "vaccine_total_df = gender_vaccine_df.sum(axis=0)\n",
    "\n",
    "vaccine_type_df= vaccine_total_df[['Covaxin','CoviShield']]\n",
    "\n",
    "vaccine_type_df =pd.DataFrame(vaccine_type_df)\n",
    "vaccine_type_df.reset_index(inplace=True)\n",
    "\n",
    "vaccine_type_df.columns = ['Vaccine','Doses']"
   ]
  },
  {
   "cell_type": "code",
   "execution_count": null,
   "id": "9fbdabc1",
   "metadata": {},
   "outputs": [],
   "source": [
    "alt.Chart(vaccine_type_df).mark_bar().encode(x='Doses:Q',y='Vaccine:N',color=alt.Color('Vaccine',scale=alt.Scale(scheme='set2'))).properties(height=100,width=600).configure(background='black').interactive()"
   ]
  },
  {
   "cell_type": "code",
   "execution_count": null,
   "id": "e5640b11",
   "metadata": {},
   "outputs": [],
   "source": []
  },
  {
   "cell_type": "code",
   "execution_count": null,
   "id": "ebea90ad",
   "metadata": {},
   "outputs": [],
   "source": []
  }
 ],
 "metadata": {
  "kernelspec": {
   "display_name": "Python 3",
   "language": "python",
   "name": "python3"
  },
  "language_info": {
   "codemirror_mode": {
    "name": "ipython",
    "version": 3
   },
   "file_extension": ".py",
   "mimetype": "text/x-python",
   "name": "python",
   "nbconvert_exporter": "python",
   "pygments_lexer": "ipython3",
   "version": "3.8.8"
  }
 },
 "nbformat": 4,
 "nbformat_minor": 5
}
